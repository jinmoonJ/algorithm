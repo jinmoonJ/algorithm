{
 "cells": [
  {
   "cell_type": "markdown",
   "metadata": {},
   "source": [
    "## Point class 만들기  \n",
    "\n",
    "Point라는 클래스를 만들고 x 위치, y위치를 뜻하는 정수 두개를 입력받아서 초기화하는  \n",
    "생성자 작성"
   ]
  },
  {
   "cell_type": "code",
   "execution_count": 11,
   "metadata": {},
   "outputs": [],
   "source": [
    "class Point:\n",
    "    def __init__(self, x, y):\n",
    "        self.x = x\n",
    "        self.y = y"
   ]
  },
  {
   "cell_type": "markdown",
   "metadata": {},
   "source": [
    "## Rectangle class 만들기  \n",
    "\n",
    "매개 변수로 Point 인스턴스 두개를 입력 받는다.  \n",
    "입력받은 Point 인스턴스의 정보를 사용해서 사각형을 만든다.  \n"
   ]
  },
  {
   "cell_type": "markdown",
   "metadata": {},
   "source": []
  },
  {
   "cell_type": "code",
   "execution_count": 12,
   "metadata": {},
   "outputs": [
    {
     "name": "stdout",
     "output_type": "stream",
     "text": [
      "4\n",
      "8\n",
      "True\n",
      "9\n",
      "12\n",
      "True\n"
     ]
    }
   ],
   "source": [
    "class Rectangle:\n",
    "    def __init__(self,p1,p2):\n",
    "        self.p1 = p1 # 좌측 상단 좌표\n",
    "        self.p2 = p2 # 우측 하단 좌표\n",
    "\n",
    "    def get_area(self):\n",
    "        # 사각형의 넓이 구해서 반환\n",
    "        # 너비 * 높이\n",
    "        width = abs(self.p2.x - self.p1.x) # 너비\n",
    "        height = abs(self.p1.y - self.p2.y) # 높이\n",
    "        return width * height\n",
    "\n",
    "    def get_perimeter(self):\n",
    "        # 사각형의 둘레를 구해서 반환\n",
    "        # (너비 + 높이) * 2\n",
    "        width = abs(self.p2.x - self.p1.x) # 너비\n",
    "        height = abs(self.p1.y - self.p2.y) # 높이\n",
    "        return (width + height) * 2\n",
    "\n",
    "    def is_square(self):\n",
    "        # 만든 사각형이 정사각형인지?\n",
    "        # 너비와 높이가 같으면 정사각형\n",
    "        width = abs(self.p2.x - self.p1.x) # 너비\n",
    "        height = abs(self.p1.y - self.p2.y) # 높이\n",
    "        return width == height\n",
    "    \n",
    "p1 = Point(1, 3)\n",
    "p2 = Point(3, 1)\n",
    "r1 = Rectangle(p1, p2)\n",
    "print(r1.get_area())\n",
    "print(r1.get_perimeter())\n",
    "print(r1.is_square())\n",
    "\n",
    "p3 = Point(3, 7)\n",
    "p4 = Point(6, 4)\n",
    "r2 = Rectangle(p3, p4)\n",
    "print(r2.get_area())\n",
    "print(r2.get_perimeter())\n",
    "print(r2.is_square())"
   ]
  }
 ],
 "metadata": {
  "kernelspec": {
   "display_name": "Python 3.9.13 64-bit",
   "language": "python",
   "name": "python3"
  },
  "language_info": {
   "codemirror_mode": {
    "name": "ipython",
    "version": 3
   },
   "file_extension": ".py",
   "mimetype": "text/x-python",
   "name": "python",
   "nbconvert_exporter": "python",
   "pygments_lexer": "ipython3",
   "version": "3.9.13"
  },
  "orig_nbformat": 4,
  "vscode": {
   "interpreter": {
    "hash": "81794d4967e6c3204c66dcd87b604927b115b27c00565d3d43f05ba2f3a2cb0d"
   }
  }
 },
 "nbformat": 4,
 "nbformat_minor": 2
}
