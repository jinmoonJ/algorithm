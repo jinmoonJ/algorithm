{
 "cells": [
  {
   "cell_type": "markdown",
   "metadata": {},
   "source": [
    "## 1. 간단한 약수"
   ]
  },
  {
   "cell_type": "code",
   "execution_count": null,
   "metadata": {},
   "outputs": [],
   "source": [
    "N = int(input())\n",
    "\n",
    "# 반복문을 통해 1부터 N까지 순회하면서 N을 나누어서 나머지가 0이면 출력\n",
    "for i in range(1, N+1):\n",
    "    if N % i == 0:\n",
    "        print(i, end= \" \")"
   ]
  },
  {
   "cell_type": "markdown",
   "metadata": {},
   "source": [
    "## 2. List의 합 구하기"
   ]
  },
  {
   "cell_type": "code",
   "execution_count": null,
   "metadata": {},
   "outputs": [],
   "source": [
    "def list_sum(numbers): # numbers 는 정수로만 이루어진 list다.\n",
    "    # 리스트 안의 요소들의 합을 저장할 변수를 선언\n",
    "    sum_value = 0\n",
    "    # numbers 리스트를 순회하면서 누적 합을 저장\n",
    "    for number in numbers:\n",
    "        sum_value += number\n",
    "    return sum_value\n",
    "\n",
    "print(list_sum([1,2,3,4,5,6]))"
   ]
  },
  {
   "cell_type": "markdown",
   "metadata": {},
   "source": [
    "## 3. Dictionary로 이루어진 list 합 구하기\n",
    "  \n",
    "Dictionary로 이루어진 list를 전달받아 모든 Dictionary의 \"age\" key에 해당하는 value들의 합을 반환하는 dict_list_sum 함수를 built-in 함수인 sum()함수를 사용하지 않고 작성하시오."
   ]
  },
  {
   "cell_type": "code",
   "execution_count": null,
   "metadata": {},
   "outputs": [],
   "source": [
    "my_dict_list = [\n",
    "    {\n",
    "        \"name\" : \"kim\",\n",
    "        \"age\" : 12\n",
    "    },\n",
    "    {\n",
    "        \"name\" : \"lee\",\n",
    "        \"age\" : 4\n",
    "    }\n",
    "]\n",
    "\n",
    "def dict_list_sum(infos): # infos 라는 파라미터는 dictionary로 이루어진 리스트다\n",
    "    age_sum = 0 # \"age\" key에 해당하는 value들의 총 합을 저장할 변수\n",
    "    for info in infos: # infos 리스트, info는 dictionary가 됨\n",
    "        age_sum += info[\"age\"]\n",
    "    return age_sum\n",
    "\n",
    "print(dict_list_sum(my_dict_list))"
   ]
  },
  {
   "cell_type": "markdown",
   "metadata": {},
   "source": [
    "## 4. 2차원 list의 전체 합 구하기\n",
    "  \n",
    "정수로만 이루어진 2차원 list를 전달 받아 해당 list의 모든 요소들의 합을 반환하는 all_list_sum 함수를 built-in함수인 sum() 함수 사용 않고 작성"
   ]
  },
  {
   "cell_type": "code",
   "execution_count": null,
   "metadata": {},
   "outputs": [],
   "source": [
    "my_list = [[1],[2,3],[4,5,6],[7,8,9,10]]\n",
    "\n",
    "def all_list_sum(num_lists): # num_lists 는 2차원 list이다.\n",
    "\n",
    "    lists_sum = 0 # 2차원 리스트의 요소들의 합을 저장할 변수\n",
    "    for num_list in num_lists: # num_lists는 2차원 리스트이고 num_list는 그 안에 있는 리스트하나\n",
    "        # num_list의 합을 구하기\n",
    "        for num in num_list: # num_list는 1차원 리스트이고 num은 그 안에 있는 숫자 하나\n",
    "            lists_sum += num # 누적합 구하기\n",
    "    \n",
    "    return lists_sum\n",
    "\n",
    "print(all_list_sum(my_list))"
   ]
  },
  {
   "cell_type": "markdown",
   "metadata": {},
   "source": [
    "## 5. 숫자의 의미\n",
    "  \n",
    "정수로 이루어진 list를 전달 받아, 각 정수에 대응되는 아스키 문자를 이어붙인 문자열을 반환하는 get_secret_word함수를 작성하시오\n",
    "단, list는 65이상 90이하 97이상 122 이하의 정수로만 구성\n",
    "(아스키 코드의 알파벳 대문자, 소문자)"
   ]
  },
  {
   "cell_type": "code",
   "execution_count": 17,
   "metadata": {},
   "outputs": [
    {
     "name": "stdout",
     "output_type": "stream",
     "text": [
      "SsAfY\n"
     ]
    }
   ],
   "source": [
    "my_numbers = [83, 115, 65, 102, 89] # SsAfY\n",
    "\n",
    "def get_secret_word(numbers): # numbers는 정수로 이루어진 리스트이다.\n",
    "    word = \"\" # numbers 안에있는 숫자들을 대응하는 알파벳으로 바꾼후 이어붙일 문자열\n",
    "    for number in numbers: # number하나를 numbers리스트안에서 가져온다\n",
    "        # number를 알파벳으로 변환\n",
    "        word += chr(number) # chr(number)--> number에 대응하는 아스키코드를 가진 알파벳반환 # 문자열도 +연산자 가능 -> 문자가 이어붙여짐\n",
    "\n",
    "    return word\n",
    "\n",
    "print(get_secret_word(my_numbers))"
   ]
  },
  {
   "cell_type": "markdown",
   "metadata": {},
   "source": [
    "## 6. 내 이름은 몇일까??\n",
    "  \n",
    "문자열을 전달 받아 해당 문자열의 각 문자에 대응되는 아스키숫자들의 합을 반환하는 get_secret_number 함수를 작성하시오 단, 문자열은 A~Z, a~z로만 구성"
   ]
  },
  {
   "cell_type": "code",
   "execution_count": 18,
   "metadata": {},
   "outputs": [
    {
     "name": "stdout",
     "output_type": "stream",
     "text": [
      "546\n"
     ]
    }
   ],
   "source": [
    "def get_secret_number(word): # word 는 문자열\n",
    "    total = 0 # word의 단어 하나하나를 숫자로 바꾼 후에 합을 저장할 변수\n",
    "    for char in word: # 문자열 word를 문자 하나하나로 쪼갠 char // word : \"happy - > char : \"h\",\"a\",\"p\",\"p\",\"y\"\n",
    "        total += ord(char) # ord(char) : 주어진 문자열char를 아스키 코드로 바꿔주는 함수\n",
    "    return total\n",
    "\n",
    "print(get_secret_number(\"happy\")) # 546"
   ]
  },
  {
   "cell_type": "markdown",
   "metadata": {},
   "source": [
    "## 7. 강한 이름\n",
    "  문자열 2개를 전달 받아 두 문자열의 각 문자에 대응되는 아스키 숫자들의 합을 비교하여 더 큰 합을 가진 문자열을 반환하는 get_strong_word함수를 작성하시오. "
   ]
  },
  {
   "cell_type": "code",
   "execution_count": 20,
   "metadata": {},
   "outputs": [
    {
     "name": "stdout",
     "output_type": "stream",
     "text": [
      "('asd', 'asd')\n"
     ]
    }
   ],
   "source": [
    "def get_strong_word(word1, word2): # word1, word2 는 문자열\n",
    "    # word1의 아스키 숫자 합을 저장할 변수\n",
    "    word1_total = 0\n",
    "    # word2의 아스키 숫자 합을 저장할 변수\n",
    "    word2_total = 0\n",
    "\n",
    "    # word1의 아스키 숫자 합 구하기\n",
    "    for char in word1:\n",
    "        word1_total += ord(char)\n",
    "    # word2의 아스키 숫자 합 구하기\n",
    "    for char in word2:\n",
    "        word2_total += ord(char)\n",
    "    \n",
    "    # 값 비교해서 결과 반환 (아스키 숫자 합이 더 큰 문자열을 반환)\n",
    "    if word1_total > word2_total:\n",
    "        return word1\n",
    "    elif word2_total > word1_total:\n",
    "        return word2\n",
    "    else:\n",
    "        return word1, word2\n",
    "\n",
    "print(get_strong_word(\"asd\", \"asd\"))"
   ]
  }
 ],
 "metadata": {
  "kernelspec": {
   "display_name": "Python 3.9.13 64-bit",
   "language": "python",
   "name": "python3"
  },
  "language_info": {
   "codemirror_mode": {
    "name": "ipython",
    "version": 3
   },
   "file_extension": ".py",
   "mimetype": "text/x-python",
   "name": "python",
   "nbconvert_exporter": "python",
   "pygments_lexer": "ipython3",
   "version": "3.9.13"
  },
  "orig_nbformat": 4,
  "vscode": {
   "interpreter": {
    "hash": "3d3579b64ed644892bc49d0da2d1890659408e00eebf25200bc250e1696a02dd"
   }
  }
 },
 "nbformat": 4,
 "nbformat_minor": 2
}
