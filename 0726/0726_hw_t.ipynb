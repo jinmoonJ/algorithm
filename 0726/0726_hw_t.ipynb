{
 "cells": [
  {
   "cell_type": "markdown",
   "metadata": {},
   "source": [
    "## 1. 모음은 몇 개나 있을까?\n"
   ]
  },
  {
   "cell_type": "code",
   "execution_count": 3,
   "metadata": {},
   "outputs": [
    {
     "name": "stdout",
     "output_type": "stream",
     "text": [
      "2\n"
     ]
    }
   ],
   "source": [
    "def count_vowels(word): # word : 모음의 갯수를 알고싶은 문자열\n",
    "    # 모음\n",
    "    vowels = \"aeiou\"\n",
    "    # 모음의 개수를 저장할 변수\n",
    "    result = 0\n",
    "    # 반복문을 통해서 word 안에 모음이 몇개 있는지 알아내기\n",
    "    for vowel in vowels:\n",
    "        result += word.count(vowel) # word 안에 모음이 몇개 있는지 센 다음 더해서 저장한다.\n",
    "    return result\n",
    "\n",
    "print(count_vowels(\"apple\"))"
   ]
  },
  {
   "cell_type": "markdown",
   "metadata": {},
   "source": [
    "## 2. 문자열 바꾸기"
   ]
  },
  {
   "cell_type": "code",
   "execution_count": 5,
   "metadata": {},
   "outputs": [
    {
     "name": "stdout",
     "output_type": "stream",
     "text": [
      "kurassic\n",
      "jurattic\n",
      "juratsic\n",
      "jurattic\n",
      "jurassic\n"
     ]
    }
   ],
   "source": [
    "print(\"jurassic\".replace(\"j\", \"k\"))\n",
    "print(\"jurassic\".replace(\"s\", \"t\"))\n",
    "print(\"jurassic\".replace(\"s\", \"t\", 1)) # 3번째 인자는 선택사항이고 바꿀 문자열을 모두 바꿀건지, 아니면 바꾸고 싶은 개수만큼 바꾸던지\n",
    "print(\"jurassic\".replace(\"s\", \"t\", 2))\n",
    "\n",
    "print(\"           jurassic            \".strip()) # 인자 선택안하면 공백 제거"
   ]
  },
  {
   "cell_type": "markdown",
   "metadata": {},
   "source": [
    "## 3. 정사각형 만들기"
   ]
  },
  {
   "cell_type": "code",
   "execution_count": null,
   "metadata": {},
   "outputs": [],
   "source": [
    "def only_square_area(widths, heights):\n",
    "    # widths : 너비들이 들어있는 리스트\n",
    "    # heights : 높이들이 들어있는 리스트\n",
    "\n",
    "    # 정사각형의 넓이를 구해서 리턴할 리스트\n",
    "    square_list = []\n",
    "\n",
    "    for width in widths: # 너비를 모두 순회한다.\n",
    "        for height in heights: # 높이를 모두 순회한다.\n",
    "            if width == height:\n",
    "                square_list.append(width * height)\n",
    "\n",
    "    return square_list\n",
    "    "
   ]
  }
 ],
 "metadata": {
  "kernelspec": {
   "display_name": "Python 3.9.13 64-bit",
   "language": "python",
   "name": "python3"
  },
  "language_info": {
   "codemirror_mode": {
    "name": "ipython",
    "version": 3
   },
   "file_extension": ".py",
   "mimetype": "text/x-python",
   "name": "python",
   "nbconvert_exporter": "python",
   "pygments_lexer": "ipython3",
   "version": "3.9.13"
  },
  "orig_nbformat": 4,
  "vscode": {
   "interpreter": {
    "hash": "3d3579b64ed644892bc49d0da2d1890659408e00eebf25200bc250e1696a02dd"
   }
  }
 },
 "nbformat": 4,
 "nbformat_minor": 2
}
