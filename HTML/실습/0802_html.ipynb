{
 "cells": [
  {
   "cell_type": "markdown",
   "metadata": {},
   "source": [
    "## HTML (HyperText Markup Language)\n",
    "- 우리가 보는 웹페이지가 어떻게 구조화 되어있는지 브라우저로 하여금 알 수 있도록 해주는 마크업 언어.\n",
    "- HTML은 element(요소)로 이루어져 있다. => tag로 감싸서 표현\n",
    "- 태그의 역할은 다른 페이지로 이동시켜주는 하이퍼링크를 생성하거나, 단어를 강조하는 등의 역할을 해준다.\n",
    "\n",
    "  ```html\n",
    "  <a href=\"www.naver.com\">네이버</a>\n",
    "  <strong>단어 강조</strong>\n",
    "  ```\n",
    "\n",
    "  - 태그의 왼쪽에 존재하는 것이 여는 태그(Opening Tag)\n",
    "    - 요소의 이름과 열고 닫는 꺽쇠 괄호(부등호 표시)로 구성된다.\n",
    "  - 태그의 오른쪽 마지막에 존재하는 것이 닫는 태그(Closing Tag)\n",
    "    - 요소의 이름 앞에 \"/\"가 있다. 나머지는 여는 태그와 똑같음\n",
    "    - 닫는 태그는 요소의 끝에 위치한다. 닫는태그는 여는 태그가있으면 꼭 존재해야 한다.\n",
    "  - 여는태그와 닫는 태그의 사이에 위치한 것이 내용(Content)\n",
    "    - 요소의 내용\n",
    "  - 여는태그, 닫는태그, 내용 이거를 다 합쳐서 요소(element)라고 한다."
   ]
  },
  {
   "cell_type": "markdown",
   "metadata": {},
   "source": [
    "### 요소는 중첩 가능하다.\n",
    "\n",
    "```html\n",
    "<div>\n",
    "    <strong>I am Strong</strong>\n",
    "</div>\n",
    "```\n",
    "\n",
    "- 요소 안에 다른 요소가 들어갈 수 있다.\n",
    "- 요소의 닫는 순서등 코드가 잘못되었다고해서 웹브라우저가 동작하지 않는다는 것은 아님.\n",
    "  - 웬만한 오류는 알아서 처리해준다. ===> 그 결과가 우리가 원하는 결과가 아닐 확률이 높다."
   ]
  },
  {
   "cell_type": "markdown",
   "metadata": {},
   "source": [
    "### 요소의 종류\n",
    "\n",
    "1. 블록 요소\n",
    "   1. 앞뒤 요소 사이에 새로운 줄(new line)을 만들고 나타난다. => 요소 이전과 이후 요소사이의 줄을 바꾼다.\n",
    "```html\n",
    "<div></div> <!-- 다른 태그들을 묶어서 블록 처리할때 많이 사용 -->\n",
    "<p></p> <!-- 텍스트로 문단을 나눌때 많이 사용 -->\n",
    "```\n",
    "2. 인라인 요소\n",
    "   1. 새로운 줄을 만들지 않는다. => 보통 블록 요소 안에 포함되어있다.\n",
    "\n",
    "```html\n",
    "<span></span>\n",
    "<a href=\"\"></a>\n",
    "<strong></strong>\n",
    "```\n",
    "\n",
    "### 빈 태그\n",
    "- 여는태그, 내용, 닫는 태그 패턴을 따르지 않는 태그들도 있다.\n",
    "```html\n",
    "<img src=\"이미지 위치,주소\">\n",
    "```"
   ]
  },
  {
   "cell_type": "markdown",
   "metadata": {},
   "source": [
    "### 속성(Attributes)\n",
    "\n",
    "요소는 속성을 가질 수 있다.  \n",
    "요소에 실제로 나타내고 싶지 않지만 코드에서 추가적인 내용을 담고 싶을때 사용한다.(일종의 변수 역할)  \n",
    "\n",
    "```html\n",
    "<div id=\"mydiv\" class=\"mydiv\"></div>\n",
    "```\n",
    "  \n",
    "- 속성을 사용할 때 지켜야할 문법\n",
    "\n",
    "1. 요소 이름 다음에 바로 오는 속성은 요소 이름과 속성 사이에 공백(띄어쓰기)가 있어야 한다.\n",
    "   1. 하나 이상의 속성들이 있는 경우에는 속성 사이에 공백이 붙는다.\n",
    "2. 속성 이름 뒤에는 등호(=)가 붙는다.\n",
    "3. 속성의 값은 열고 닫는 따옴표(\"\")로 감싸야한다.\n",
    "\n",
    "```html\n",
    "<a href=\"https://www.naver.com\" title=\"네이버로 이동\">링크</a>\n",
    "```\n",
    "\n",
    "- 참, 거짓 두가지 값을 가질 수 있는 속성(Boolean Attributes)\n",
    "\n",
    "```html\n",
    "<input type=\"text\" disabled=\"disabled\"> <!--입력을 하지 못하게 막는 속성/ 서버에 데이터를 전송하지도 않는다.-->\n",
    "<input type=\"text\" disabled> <!--disabled 속성에 허락된 줄여쓰기 (bool 속성)-->\n",
    "<input type=\"text\" readonly> <!--입력을 하지 못한다./ 서버에 데이터를 전송한다.-->\n",
    "```\n",
    "\n"
   ]
  },
  {
   "cell_type": "markdown",
   "metadata": {},
   "source": [
    "### HTML 의 시멘틱 태그\n",
    "\n",
    "의미를 가진 태그를 이용해서 사용 목표를 명확하게 해준다.  \n",
    "- header : 일반적으로 제목, 로고 등의 웹페이지의 주요 정보가 있는 곳\n",
    "- nav : (navigation var)의 줄임말, 홈페이지의 메뉴버튼, 링크, 탭 이런 내용들이 모여져있는 사용자의 편의를 위해 제공하는 것들\n",
    "- main :  article, section, aside : 웹페이지에서 컨텐츠를 포함하고 있는 중심의 큰 부분, 사용자들이 가장 관심있어 하는 것들이 모여있는 곳(뉴스의 헤드라인, 지도, 설명)\n",
    "- aside : 링크, 광고 등이 포함되는 메인 컨텐츠와는 조금 관련이 없는 것들이 포함\n",
    "- footer : 페이지 바닥의 줄로 표현되는 작은 정보가 포함된 부분, 저작권, 연락처, 위치정보등을 포함"
   ]
  }
 ],
 "metadata": {
  "kernelspec": {
   "display_name": "Python 3.9.13 64-bit",
   "language": "python",
   "name": "python3"
  },
  "language_info": {
   "name": "python",
   "version": "3.9.13"
  },
  "orig_nbformat": 4,
  "vscode": {
   "interpreter": {
    "hash": "3d3579b64ed644892bc49d0da2d1890659408e00eebf25200bc250e1696a02dd"
   }
  }
 },
 "nbformat": 4,
 "nbformat_minor": 2
}
